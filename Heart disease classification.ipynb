{
 "cells": [
  {
   "cell_type": "code",
   "execution_count": 3,
   "id": "4b706c6a",
   "metadata": {},
   "outputs": [],
   "source": [
    "import pandas as pd\n",
    "from sklearn.preprocessing import OneHotEncoder\n",
    "from sklearn.linear_model import LogisticRegression\n",
    "from sklearn.model_selection import cross_val_score,KFold\n",
    "import numpy as np\n",
    "from numpy import std\n",
    "from sklearn.preprocessing import StandardScaler\n",
    "from sklearn.metrics import accuracy_score, precision_score, recall_score, f1_score,classification_report\n",
    "from sklearn.ensemble import RandomForestClassifier\n",
    "from sklearn.model_selection import train_test_split\n",
    "from imblearn.pipeline import Pipeline\n",
    "from skopt import BayesSearchCV\n",
    "from sklearn.compose import make_column_transformer\n",
    "from numpy import mean\n",
    "from sklearn.metrics import confusion_matrix\n",
    "from sklearn.metrics import classification_report\n",
    "from sklearn.compose import ColumnTransformer\n",
    "import xgboost as xgb\n",
    "from sklearn.ensemble import AdaBoostClassifier\n",
    "from sklearn.svm import LinearSVC\n",
    "from sklearn.model_selection import StratifiedKFold\n",
    "from imblearn.under_sampling import RandomUnderSampler\n",
    "from sklearn.feature_selection import RFE\n",
    "from sklearn.tree import DecisionTreeClassifier\n",
    "from imblearn.ensemble import BalancedBaggingClassifier\n",
    "from imblearn.ensemble import BalancedRandomForestClassifier\n",
    "from sklearn.linear_model import Perceptron\n",
    "from skopt import BayesSearchCV\n",
    "from numpy import arange\n",
    "import matplotlib.pyplot as plt \n",
    "import seaborn as sns \n",
    "from scipy.stats import skew, kurtosis\n",
    "\n",
    "df = pd.read_csv('heart_2.csv')\n",
    "y = df['HeartDiseaseorAttack']\n",
    "X=df.drop(columns='HeartDiseaseorAttack')"
   ]
  },
  {
   "cell_type": "code",
   "execution_count": 5,
   "id": "f10f94c7",
   "metadata": {},
   "outputs": [],
   "source": [
    "X_train, X_test, y_train, y_test = train_test_split( X, y, test_size=0.2,stratify=y, random_state=42)"
   ]
  },
  {
   "cell_type": "code",
   "execution_count": 7,
   "id": "3548121c",
   "metadata": {},
   "outputs": [
    {
     "data": {
      "text/html": [
       "<div>\n",
       "<style scoped>\n",
       "    .dataframe tbody tr th:only-of-type {\n",
       "        vertical-align: middle;\n",
       "    }\n",
       "\n",
       "    .dataframe tbody tr th {\n",
       "        vertical-align: top;\n",
       "    }\n",
       "\n",
       "    .dataframe thead th {\n",
       "        text-align: right;\n",
       "    }\n",
       "</style>\n",
       "<table border=\"1\" class=\"dataframe\">\n",
       "  <thead>\n",
       "    <tr style=\"text-align: right;\">\n",
       "      <th></th>\n",
       "      <th>BMI</th>\n",
       "      <th>GenHlth</th>\n",
       "      <th>MentHlth</th>\n",
       "      <th>PhysHlth</th>\n",
       "      <th>Age</th>\n",
       "      <th>Education</th>\n",
       "      <th>Income</th>\n",
       "    </tr>\n",
       "  </thead>\n",
       "  <tbody>\n",
       "    <tr>\n",
       "      <th>count</th>\n",
       "      <td>253680.000000</td>\n",
       "      <td>253680.000000</td>\n",
       "      <td>253680.000000</td>\n",
       "      <td>253680.000000</td>\n",
       "      <td>253680.000000</td>\n",
       "      <td>253680.000000</td>\n",
       "      <td>253680.000000</td>\n",
       "    </tr>\n",
       "    <tr>\n",
       "      <th>mean</th>\n",
       "      <td>28.382364</td>\n",
       "      <td>2.511392</td>\n",
       "      <td>3.184772</td>\n",
       "      <td>4.242081</td>\n",
       "      <td>8.032119</td>\n",
       "      <td>5.050434</td>\n",
       "      <td>6.053875</td>\n",
       "    </tr>\n",
       "    <tr>\n",
       "      <th>std</th>\n",
       "      <td>6.608694</td>\n",
       "      <td>1.068477</td>\n",
       "      <td>7.412847</td>\n",
       "      <td>8.717951</td>\n",
       "      <td>3.054220</td>\n",
       "      <td>0.985774</td>\n",
       "      <td>2.071148</td>\n",
       "    </tr>\n",
       "    <tr>\n",
       "      <th>min</th>\n",
       "      <td>12.000000</td>\n",
       "      <td>1.000000</td>\n",
       "      <td>0.000000</td>\n",
       "      <td>0.000000</td>\n",
       "      <td>1.000000</td>\n",
       "      <td>1.000000</td>\n",
       "      <td>1.000000</td>\n",
       "    </tr>\n",
       "    <tr>\n",
       "      <th>25%</th>\n",
       "      <td>24.000000</td>\n",
       "      <td>2.000000</td>\n",
       "      <td>0.000000</td>\n",
       "      <td>0.000000</td>\n",
       "      <td>6.000000</td>\n",
       "      <td>4.000000</td>\n",
       "      <td>5.000000</td>\n",
       "    </tr>\n",
       "    <tr>\n",
       "      <th>50%</th>\n",
       "      <td>27.000000</td>\n",
       "      <td>2.000000</td>\n",
       "      <td>0.000000</td>\n",
       "      <td>0.000000</td>\n",
       "      <td>8.000000</td>\n",
       "      <td>5.000000</td>\n",
       "      <td>7.000000</td>\n",
       "    </tr>\n",
       "    <tr>\n",
       "      <th>75%</th>\n",
       "      <td>31.000000</td>\n",
       "      <td>3.000000</td>\n",
       "      <td>2.000000</td>\n",
       "      <td>3.000000</td>\n",
       "      <td>10.000000</td>\n",
       "      <td>6.000000</td>\n",
       "      <td>8.000000</td>\n",
       "    </tr>\n",
       "    <tr>\n",
       "      <th>max</th>\n",
       "      <td>98.000000</td>\n",
       "      <td>5.000000</td>\n",
       "      <td>30.000000</td>\n",
       "      <td>30.000000</td>\n",
       "      <td>13.000000</td>\n",
       "      <td>6.000000</td>\n",
       "      <td>8.000000</td>\n",
       "    </tr>\n",
       "  </tbody>\n",
       "</table>\n",
       "</div>"
      ],
      "text/plain": [
       "                 BMI        GenHlth       MentHlth       PhysHlth  \\\n",
       "count  253680.000000  253680.000000  253680.000000  253680.000000   \n",
       "mean       28.382364       2.511392       3.184772       4.242081   \n",
       "std         6.608694       1.068477       7.412847       8.717951   \n",
       "min        12.000000       1.000000       0.000000       0.000000   \n",
       "25%        24.000000       2.000000       0.000000       0.000000   \n",
       "50%        27.000000       2.000000       0.000000       0.000000   \n",
       "75%        31.000000       3.000000       2.000000       3.000000   \n",
       "max        98.000000       5.000000      30.000000      30.000000   \n",
       "\n",
       "                 Age      Education         Income  \n",
       "count  253680.000000  253680.000000  253680.000000  \n",
       "mean        8.032119       5.050434       6.053875  \n",
       "std         3.054220       0.985774       2.071148  \n",
       "min         1.000000       1.000000       1.000000  \n",
       "25%         6.000000       4.000000       5.000000  \n",
       "50%         8.000000       5.000000       7.000000  \n",
       "75%        10.000000       6.000000       8.000000  \n",
       "max        13.000000       6.000000       8.000000  "
      ]
     },
     "execution_count": 7,
     "metadata": {},
     "output_type": "execute_result"
    }
   ],
   "source": [
    "cols=['BMI','GenHlth','MentHlth','PhysHlth','Age','Education','Income']\n",
    "X[cols].describe()"
   ]
  },
  {
   "cell_type": "code",
   "execution_count": 8,
   "id": "d3e5acaa",
   "metadata": {
    "collapsed": true
   },
   "outputs": [
    {
     "name": "stdout",
     "output_type": "stream",
     "text": [
      "Skew: BMI 2.122\n",
      "Skew: GenHlth 0.423\n",
      "Skew: MentHlth 2.721\n",
      "Skew: PhysHlth 2.207\n",
      "Skew: Age -0.360\n",
      "Skew: Education -0.777\n",
      "Skew: Income -0.891\n"
     ]
    }
   ],
   "source": [
    "for col in df[cols]:\n",
    "    print(\"Skew: %s %.3f\" % (col,skew(df[col])))"
   ]
  },
  {
   "cell_type": "code",
   "execution_count": null,
   "id": "34e3dbca",
   "metadata": {
    "collapsed": true
   },
   "outputs": [
    {
     "name": "stdout",
     "output_type": "stream",
     "text": [
      "kurtosis: BMI 10.997\n",
      "kurtosis: GenHlth -0.383\n",
      "kurtosis: MentHlth 6.442\n",
      "kurtosis: PhysHlth 3.496\n",
      "kurtosis: Age -0.581\n",
      "kurtosis: Education 0.039\n",
      "kurtosis: Income -0.280\n"
     ]
    }
   ],
   "source": [
    "for col in  df[cols]:\n",
    "    print(\"kurtosis: %s %.3f\" % (col,kurtosis(df[col])))"
   ]
  },
  {
   "cell_type": "code",
   "execution_count": null,
   "id": "f7a75836",
   "metadata": {
    "collapsed": true
   },
   "outputs": [
    {
     "data": {
      "text/plain": [
       "<AxesSubplot:xlabel='HeartDiseaseorAttack', ylabel='count'>"
      ]
     },
     "execution_count": 23,
     "metadata": {},
     "output_type": "execute_result"
    },
    {
     "data": {
      "image/png": "[encoded data removed]",
      "text/plain": [
       "<Figure size 432x288 with 1 Axes>"
      ]
     },
     "metadata": {
      "needs_background": "light"
     },
     "output_type": "display_data"
    }
   ],
   "source": [
    "sns.countplot(x='HeartDiseaseorAttack',data=df)"
   ]
  },
  {
   "cell_type": "code",
   "execution_count": null,
   "id": "df79f148",
   "metadata": {},
   "outputs": [],
   "source": [
    "myheart = df['HeartDiseaseorAttack']\n",
    "myBMI = df['BMI']"
   ]
  },
  {
   "cell_type": "code",
   "execution_count": null,
   "id": "6e3be178",
   "metadata": {},
   "outputs": [],
   "source": [
    "heart_0 = myheart == 0\n",
    "heart_1 = myheart == 1"
   ]
  },
  {
   "cell_type": "code",
   "execution_count": null,
   "id": "11ab14cc",
   "metadata": {
    "collapsed": true
   },
   "outputs": [
    {
     "data": {
      "image/png": "[encoded data removed]",
      "text/plain": [
       "<Figure size 432x288 with 1 Axes>"
      ]
     },
     "metadata": {
      "needs_background": "light"
     },
     "output_type": "display_data"
    }
   ],
   "source": [
    "plt.hist(myBMI[heart_0], edgecolor='blue', alpha=0.5, bins =range(10,100,4) , label='0')\n",
    "plt.hist(myBMI[heart_1], edgecolor='blue', alpha=0.5, bins = range(10,100,4), label='1')\n",
    "plt.legend(loc='upper right')\n",
    "plt.xlabel('BMI')\n",
    "plt.ylabel('Frequency')\n",
    "plt.show()"
   ]
  },
  {
   "cell_type": "code",
   "execution_count": null,
   "id": "29499ef7",
   "metadata": {
    "collapsed": true
   },
   "outputs": [
    {
     "data": {
      "image/png": "[encoded data removed]",
      "text/plain": [
       "<Figure size 432x288 with 1 Axes>"
      ]
     },
     "metadata": {
      "needs_background": "light"
     },
     "output_type": "display_data"
    }
   ],
   "source": [
    "myheart = df['HeartDiseaseorAttack']\n",
    "myAge = df['Age']\n",
    "\n",
    "plt.hist(myAge[heart_0], edgecolor='blue', alpha=0.5, bins = [1,2,3,4,5,6,7,8,9,10,11,12,13,14], label='0')\n",
    "plt.hist(myAge[heart_1], edgecolor='blue', alpha=0.5, bins = [1,2,3,4,5,6,7,8,9,10,11,12,13,14], label='1')\n",
    "plt.legend(loc='upper right')\n",
    "plt.xlabel('Age')\n",
    "plt.ylabel('Frequency')\n",
    "plt.show()"
   ]
  },
  {
   "cell_type": "code",
   "execution_count": 10,
   "id": "647b7304",
   "metadata": {},
   "outputs": [
    {
     "data": {
      "text/html": [
       "<div>\n",
       "<style scoped>\n",
       "    .dataframe tbody tr th:only-of-type {\n",
       "        vertical-align: middle;\n",
       "    }\n",
       "\n",
       "    .dataframe tbody tr th {\n",
       "        vertical-align: top;\n",
       "    }\n",
       "\n",
       "    .dataframe thead th {\n",
       "        text-align: right;\n",
       "    }\n",
       "</style>\n",
       "<table border=\"1\" class=\"dataframe\">\n",
       "  <thead>\n",
       "    <tr style=\"text-align: right;\">\n",
       "      <th></th>\n",
       "      <th>HighBP</th>\n",
       "      <th>HighChol</th>\n",
       "      <th>Smoker</th>\n",
       "      <th>Stroke</th>\n",
       "      <th>CholCheck</th>\n",
       "      <th>Fruits</th>\n",
       "      <th>Veggies</th>\n",
       "      <th>Diabetes</th>\n",
       "    </tr>\n",
       "    <tr>\n",
       "      <th>HeartDiseaseorAttack</th>\n",
       "      <th></th>\n",
       "      <th></th>\n",
       "      <th></th>\n",
       "      <th></th>\n",
       "      <th></th>\n",
       "      <th></th>\n",
       "      <th></th>\n",
       "      <th></th>\n",
       "    </tr>\n",
       "  </thead>\n",
       "  <tbody>\n",
       "    <tr>\n",
       "      <th>0.0</th>\n",
       "      <td>0.395588</td>\n",
       "      <td>0.395314</td>\n",
       "      <td>0.424837</td>\n",
       "      <td>0.027656</td>\n",
       "      <td>0.959967</td>\n",
       "      <td>0.637329</td>\n",
       "      <td>0.816360</td>\n",
       "      <td>0.256337</td>\n",
       "    </tr>\n",
       "    <tr>\n",
       "      <th>1.0</th>\n",
       "      <td>0.750345</td>\n",
       "      <td>0.701168</td>\n",
       "      <td>0.619470</td>\n",
       "      <td>0.164776</td>\n",
       "      <td>0.988658</td>\n",
       "      <td>0.604696</td>\n",
       "      <td>0.763906</td>\n",
       "      <td>0.687231</td>\n",
       "    </tr>\n",
       "  </tbody>\n",
       "</table>\n",
       "</div>"
      ],
      "text/plain": [
       "                        HighBP  HighChol    Smoker    Stroke  CholCheck  \\\n",
       "HeartDiseaseorAttack                                                      \n",
       "0.0                   0.395588  0.395314  0.424837  0.027656   0.959967   \n",
       "1.0                   0.750345  0.701168  0.619470  0.164776   0.988658   \n",
       "\n",
       "                        Fruits   Veggies  Diabetes  \n",
       "HeartDiseaseorAttack                                \n",
       "0.0                   0.637329  0.816360  0.256337  \n",
       "1.0                   0.604696  0.763906  0.687231  "
      ]
     },
     "execution_count": 10,
     "metadata": {},
     "output_type": "execute_result"
    }
   ],
   "source": [
    "collapse_rfc2231_value=['HighBP','HighChol','Smoker','Stroke','CholCheck','Fruits','Veggies','Diabetes']\n",
    "dataset=df.groupby('HeartDiseaseorAttack')[cols2].mean()\n",
    "dataset"
   ]
  },
  {
   "cell_type": "code",
   "execution_count": null,
   "id": "ac0b1004",
   "metadata": {
    "collapsed": true
   },
   "outputs": [
    {
     "data": {
      "image/png": "[encoded data removed]",
      "text/plain": [
       "<Figure size 432x288 with 1 Axes>"
      ]
     },
     "metadata": {
      "needs_background": "light"
     },
     "output_type": "display_data"
    }
   ],
   "source": [
    "indx=np.arange(len(cols))\n",
    "score_label=np.arange(0,1.2,0.2)\n",
    "\n",
    "col1=list(dataset.T[1])\n",
    "col2=list(dataset.T[0])\n",
    "bar_width=0.35\n",
    "\n",
    "fig,ax=plt.subplots()\n",
    "bar_1=ax.bar(indx-bar_width/2, col1, bar_width, label='more chance of heart attack')\n",
    "bar_2=ax.bar(indx+bar_width/2, col2, bar_width, label='less chance of heart attack ')\n",
    "\n",
    "#inserting x axis label\n",
    "ax.set_xticks(indx)\n",
    "ax.set_xticklabels(cols)\n",
    "\n",
    "ax.legend()\n",
    "\n",
    "#inserting y axis label\n",
    "ax.set_yticks(score_label)\n",
    "ax.set_yticklabels(score_label)\n",
    "\n",
    "def insert_data_labels(bars):\n",
    "    for bar in bars:\n",
    "        bar_height = bar.get_height()\n",
    "        ax.annotate('{0:.0f}'.format(bar.get_height()),\n",
    "            xy=(bar.get_x() + bar.get_width() / 2, bar_height),\n",
    "            xytext=(0, 3),\n",
    "            textcoords='offset points',\n",
    "            ha='center',\n",
    "            va='bottom'\n",
    "        )\n",
    "\n",
    "insert_data_labels(bar_1)\n",
    "insert_data_labels(bar_2)\n",
    "\n",
    "plt.show()"
   ]
  },
  {
   "cell_type": "code",
   "execution_count": null,
   "id": "0dda4965",
   "metadata": {},
   "outputs": [
    {
     "name": "stdout",
     "output_type": "stream",
     "text": [
      ">balanced 0.290 (0.002)\n",
      ">xgboost 0.401 (0.003)\n",
      ">Random forest 0.391 (0.004)\n",
      ">Ada_SVC 0.399 (0.005)\n",
      ">log_reg 0.415 (0.003)\n",
      ">Adaboost 0.413 (0.004)\n",
      ">Adaboost_LR 0.414 (0.004)\n"
     ]
    }
   ],
   "source": [
    "preprocessor_ = ColumnTransformer(transformers =[ ('scale',StandardScaler(), X_train.columns)], remainder ='passthrough')\n",
    "under = RandomUnderSampler(sampling_strategy=0.5,random_state=40)\n",
    "def get_models():\n",
    "    models = dict()\n",
    "    model= BalancedBaggingClassifier()\n",
    "    models['balanced']= Pipeline(steps=[('under', under),('m',model)])\n",
    "    \n",
    "    model= DecisionTreeClassifier()\n",
    "    models['balanced']= Pipeline(steps=[('under', under),('m',model)])\n",
    "    \n",
    "    models['xgboost'] = Pipeline(steps=[('under', under),('m',xgb.XGBClassifier())])\n",
    "    \n",
    "    models['Random forest'] = Pipeline(steps=[('under', under),('m',RandomForestClassifier(random_state=42))])\n",
    "\n",
    "    model=AdaBoostClassifier(base_estimator=LinearSVC(),algorithm='SAMME')\n",
    "    models['Ada_SVC'] = Pipeline(steps=[('preprocessor_',preprocessor_),('under', under),('m',model)])\n",
    "    \n",
    "    models['log_reg'] = Pipeline(steps=[('preprocessor_',preprocessor_),('under', under),('m',LogisticRegression())])\n",
    "\n",
    "    model = AdaBoostClassifier()\n",
    "    models['Adaboost'] = Pipeline(steps=[('under', under),('m',model)])\n",
    "\n",
    "    model = AdaBoostClassifier(base_estimator = LogisticRegression(max_iter=400))\n",
    "    models['Adaboost_LR'] = Pipeline(steps=[('preprocessor_',preprocessor_),('under', under),('m',model)])\n",
    "    return models\n",
    " \n",
    "def evaluate_model(model, X, y):\n",
    "    cv = StratifiedKFold(n_splits=5,shuffle=True )\n",
    "    scores = cross_val_score(model, X, y, scoring='f1', cv=cv, n_jobs=-1)\n",
    "    return scores\n",
    " \n",
    "models = get_models()\n",
    "results, names = list(), list()\n",
    "for name, model in models.items():\n",
    "    scores = evaluate_model(model, X_train, y_train)\n",
    "    results.append(scores)\n",
    "    names.append(name)\n",
    "    print('>%s %.3f (%.3f)' % (name, mean(scores), std(scores)))"
   ]
  },
  {
   "cell_type": "code",
   "execution_count": null,
   "id": "796be3a0",
   "metadata": {},
   "outputs": [],
   "source": [
    "under = RandomUnderSampler(sampling_strategy=1,random_state=40)\n",
    "preprocessor_ = ColumnTransformer(transformers =[ ('scale',StandardScaler(), X_train.columns)], remainder ='passthrough')\n",
    "\n",
    "def get_models():\n",
    "    models = dict()\n",
    "    for i in range(5,21):\n",
    "        rfe = RFE(estimator=LogisticRegression(max_iter=400), n_features_to_select=i)\n",
    "#        model = AdaBoostClassifier(base_estimator = LogisticRegression(max_iter=400),algorithm='SAMME')\n",
    "        model= xgb.XGBClassifier(use_label_encoder=False)\n",
    "        models[str(i)] = Pipeline(steps=[(\"preprocessor_\", preprocessor_),('s',rfe),('under', under),('m',model)])\n",
    "    return models\n",
    "\n",
    "def evaluate_model(model, X, y):\n",
    "    cv = StratifiedKFold(n_splits=5,shuffle=True,random_state=42)\n",
    "    scores = cross_val_score(model, X, y, scoring='f1', cv=cv, n_jobs=-1, error_score='raise')\n",
    "    return scores\n",
    "\n",
    "models = get_models()\n",
    "results, names = list(), list()\n",
    "for name, model in models.items():\n",
    "    scores = evaluate_model(model, X_train, y_train)\n",
    "    results.append(scores)\n",
    "    names.append(name)\n",
    "    print('>%s %.3f (%.3f)' % (name, mean(scores), std(scores)))"
   ]
  },
  {
   "cell_type": "code",
   "execution_count": null,
   "id": "486d7a51",
   "metadata": {},
   "outputs": [],
   "source": [
    "preprocessor_ = ColumnTransformer(transformers =[ ('scale',StandardScaler(), X_train.columns)], remainder ='passthrough')\n",
    "under = RandomUnderSampler(sampling_strategy=0.5,random_state=40)\n",
    "model=AdaBoostClassifier(base_estimator=LogisticRegression(max_iter=400),algorithm='SAMME')\n",
    "#model= xgb.XGBClassifier(use_label_encoder=False)\n",
    "\n",
    "def get_models():\n",
    "    models = dict()\n",
    "    rfe = RFE(estimator=LogisticRegression(max_iter=400), n_features_to_select=9)\n",
    "    models['lr'] = Pipeline(steps=[('preprocessor_',preprocessor_),('rfe',rfe),('under', under),('m',model)])\n",
    "  \n",
    "    rfe = RFE(estimator=Perceptron(), n_features_to_select=9)  \n",
    "    models['per'] = Pipeline(steps=[('preprocessor_',preprocessor_),('rfe',rfe),('under', under),('m',model)])\n",
    "    \n",
    "    rfe = RFE(estimator=DecisionTreeClassifier(), n_features_to_select=9)\n",
    "    models['dtc'] = Pipeline(steps=[('preprocessor_',preprocessor_),('rfe',rfe),('under', under),('m',model)])\n",
    "    return models\n",
    " \n",
    "def evaluate_model(model, X, y):\n",
    "    cv = StratifiedKFold(n_splits=5,shuffle=True)\n",
    "    scores = cross_val_score(model, X, y, scoring='f1', cv=cv, n_jobs=-1)\n",
    "    return scores\n",
    " \n",
    "models = get_models()\n",
    "results, names = list(), list()\n",
    "for name, model in models.items():\n",
    "    scores = evaluate_model(model, X_train, y_train)\n",
    "    results.append(scores)\n",
    "    names.append(name)\n",
    "    print('>%s %.3f (%.3f)' % (name, mean(scores), std(scores)))"
   ]
  },
  {
   "cell_type": "code",
   "execution_count": null,
   "id": "61e11adc",
   "metadata": {},
   "outputs": [
    {
     "name": "stdout",
     "output_type": "stream",
     "text": [
      "OrderedDict([('model__colsample_bylevel', 0.01), ('model__colsample_bytree', 0.7), ('model__gamma', 0.2), ('model__learning_rate', 0.05), ('model__max_depth', 3), ('model__min_child_weight', 1), ('model__n_estimators', 300), ('model__subsample', 1.0), ('under__sampling_strategy', 0.5)])\n",
      "0.41691052646347637\n"
     ]
    }
   ],
   "source": [
    "solver=['newton-cg', 'lbfgs', 'liblinear']\n",
    "random_grid = {'under__sampling_strategy':[0.5,0.8,1],'rfe__estimator__C':[0.001,0.01,0.1,1,10,100,1000],\n",
    "'rfe__estimator__solver':solver,'rfe__n_features_to_select':[6,7,8,9,10,11],\"model__learning_rate\":[0.05,0.10,0.15,0.20,0.25,0.30],\n",
    "\"model__max_depth\":[3,4,5,6,8,10,12,15], \"model__min_child_weight\":[1,3,5,7],\"model__gamma\":[0.0,0.1,0.2,0.3,0.4],\n",
    "\"model__colsample_bytree\":[0.3,0.4,0.5,0.7],'model__subsample': (0.01, 1.0, 'uniform'), \n",
    "'model__colsample_bytree': [0.3,0.4,0.5,0.7],'model__colsample_bylevel': (0.01, 1.0, 'uniform'), 'model__n_estimators': (50, 100,200,300)}\n",
    "\n",
    "rfe = RFE(estimator=LogisticRegression(max_iter=600))\n",
    "under = RandomUnderSampler(random_state=40)\n",
    "preprocessor_ = ColumnTransformer(transformers =[ ('scale',StandardScaler(), X_train.columns)], remainder ='passthrough')\n",
    "\n",
    "model= xgb.XGBClassifier(use_label_encoder=False,n_jobs = 1,objective = 'binary:logistic',\n",
    "eval_metric = 'error', tree_method='approx')\n",
    "\n",
    "model_pipeline=Pipeline(steps=[(\"preprocessor_\", preprocessor_),('rfe',rfe),('under', under),('model', model)])\n",
    "\n",
    "cv = StratifiedKFold(n_splits=5,shuffle=True,random_state=42)\n",
    "\n",
    "opt = BayesSearchCV( model_pipeline,[(random_grid, 80)],cv=cv,scoring='f1')\n",
    "opt.fit(X_train, y_train)\n",
    "\n",
    "print(opt.best_params_)\n",
    "print(opt.best_score_)"
   ]
  },
  {
   "cell_type": "code",
   "execution_count": null,
   "id": "953da225",
   "metadata": {},
   "outputs": [
    {
     "name": "stdout",
     "output_type": "stream",
     "text": [
      "OrderedDict([('model__base_estimator__C', 100.0), ('model__base_estimator__max_iter', 5000), ('model__learning_rate', 0.6), ('model__n_estimators', 400), ('under__sampling_strategy', 0.5)])\n",
      "0.4151229025085251\n"
     ]
    }
   ],
   "source": [
    "random_grid = {'rfe__n_features_to_select':[6,7,8,9,10],'under__sampling_strategy':[0.5,0.8,1],\n",
    "'model__base_estimator__C':[0.0001,0.001,0.01,0.1,1,10,100,1000],'model__base_estimator__max_iter':[500,1000,5000,10000],\n",
    "               'model__learning_rate': arange(0.1, 1, 0.1),\"model__n_estimators\": [ 50, 100,200,250,400]  }\n",
    "\n",
    "rfe = RFE(estimator=LogisticRegression(max_iter=400))\n",
    "under = RandomUnderSampler(random_state=40)\n",
    "preprocessor_ = ColumnTransformer(transformers =[ ('scale',StandardScaler(), X_train.columns)], remainder ='passthrough')\n",
    "\n",
    "model = AdaBoostClassifier(base_estimator = LogisticRegression(),algorithm='SAMME')\n",
    "\n",
    "model_pipeline = Pipeline(steps =[(\"preprocessor_\", preprocessor_),('rfe',rfe),('under', under),('model', model)])\n",
    "\n",
    "cv = StratifiedKFold(n_splits=5,shuffle=True,random_state=42)\n",
    "\n",
    "opt = BayesSearchCV( model_pipeline,[(random_grid, 70)],cv=cv,scoring='f1')\n",
    "opt.fit(X_train, y_train)\n",
    "\n",
    "print(opt.best_params_)\n",
    "print(opt.best_score_)"
   ]
  },
  {
   "cell_type": "code",
   "execution_count": null,
   "id": "c0a3507a",
   "metadata": {},
   "outputs": [
    {
     "name": "stdout",
     "output_type": "stream",
     "text": [
      "[[159503  24327]\n",
      " [  7722  11392]]\n",
      "F1 on training set are 0.41551620374591947\n",
      "[[39905  6052]\n",
      " [ 1920  2859]]\n",
      " F1 on test set are 0.41767713659605554\n",
      "              precision    recall  f1-score   support\n",
      "\n",
      "         0.0       0.95      0.87      0.91     45957\n",
      "         1.0       0.32      0.60      0.42      4779\n",
      "\n",
      "    accuracy                           0.84     50736\n",
      "   macro avg       0.64      0.73      0.66     50736\n",
      "weighted avg       0.89      0.84      0.86     50736\n",
      "\n"
     ]
    }
   ],
   "source": [
    "under = RandomUnderSampler(sampling_strategy=0.5,random_state=10)\n",
    "#rfe = RFE(estimator=LogisticRegression(C=0.001,solver='lbfgs',max_iter=400), n_features_to_select=11)#xgb\n",
    "rfe = RFE(estimator=LogisticRegression(max_iter=400), n_features_to_select=9)#Adaboost with rfe\n",
    "\n",
    "#model=AdaBoostClassifier(base_estimator=LogisticRegression(C=1000,max_iter=400),learning_rate=0.6,\n",
    "#n_estimators=200,algorithm='SAMME')#with rfe    \n",
    "\n",
    "#model=AdaBoostClassifier(base_estimator=LogisticRegression(),algorithm='SAMME') #Adaboost default   \n",
    "\n",
    "\n",
    "model= xgb.XGBClassifier(colsample_bylevel=1,colsample_bytree=0.7,gamma=0.4,learning_rate=0.05,\n",
    "max_depth=3,min_child_weight=7,n_estimators=200,subsample=1,use_label_encoder=False,\n",
    "n_jobs = 1,objective = 'binary:logistic',eval_metric = 'error', tree_method='approx')#with rfe\n",
    "\n",
    "#model= xgb.XGBClassifier(use_label_encoder=False,n_jobs=1,objective='binary:logistic',eval_metric='error',tree_method='approx') #default\n",
    "\n",
    "pipeline_model = Pipeline(steps=[ (\"preprocessor_\", preprocessor_),('rfe',rfe),('under',under),('model',model)])\n",
    "\n",
    "pipeline_model.fit(X_train, y_train)\n",
    "\n",
    "y_pred_train=pipeline_model.predict(X_train)\n",
    "\n",
    "conf_pred_train=confusion_matrix(y_train,y_pred_train)\n",
    "print(conf_pred_train)\n",
    "\n",
    "score_train=f1_score(y_train,y_pred_train)\n",
    "print(\"F1 on training set are {}\".format(score_train))\n",
    "y_pred_test = pipeline_model.predict(X_test)\n",
    "\n",
    "conf_pred_test = confusion_matrix(y_test, y_pred_test) \n",
    "print(conf_pred_test)\n",
    "score=f1_score(y_test,y_pred_test)\n",
    "print(\" F1 on test set are {}\".format(score))\n",
    "print(classification_report(y_test, y_pred_test))"
   ]
  },
  {
   "cell_type": "code",
   "execution_count": null,
   "id": "f555ebde",
   "metadata": {},
   "outputs": [
    {
     "data": {
      "text/plain": [
       "(0.5982423101067169, 0.8683116826598777)"
      ]
     },
     "execution_count": 23,
     "metadata": {},
     "output_type": "execute_result"
    }
   ],
   "source": [
    "recall_sensitivity = recall_score(y_test, y_pred_test, pos_label=1)\n",
    "\n",
    "recall_specificity = recall_score(y_test, y_pred_test, pos_label=0)\n",
    "\n",
    "recall_sensitivity, recall_specificity "
   ]
  },
  {
   "cell_type": "code",
   "execution_count": null,
   "id": "20e2e3fa",
   "metadata": {
    "collapsed": true
   },
   "outputs": [
    {
     "data": {
      "text/plain": [
       "Pipeline(steps=[('preprocessor_',\n",
       "                 ColumnTransformer(remainder='passthrough',\n",
       "                                   transformers=[('scale', StandardScaler(),\n",
       "                                                  Index(['HighBP', 'HighChol', 'CholCheck', 'BMI', 'Smoker', 'Stroke',\n",
       "       'Diabetes', 'PhysActivity', 'Fruits', 'Veggies', 'HvyAlcoholConsump',\n",
       "       'AnyHealthcare', 'NoDocbcCost', 'GenHlth', 'MentHlth', 'PhysHlth',\n",
       "       'DiffWalk', 'Sex', 'Age', 'Education', 'Income'],\n",
       "      dtype='object'))])),\n",
       "                ('rfe_ada',\n",
       "                 RFE(estimator=LogisticRegression(max_iter=400),\n",
       "                     n_features_to_select=9)),\n",
       "                ('under',\n",
       "                 RandomUnderSampler(random_state=10, sampling_strategy=0.5)),\n",
       "                ('model_ada',\n",
       "                 AdaBoostClassifier(algorithm='SAMME',\n",
       "                                    base_estimator=LogisticRegression(C=1000,\n",
       "                                                                      max_iter=400),\n",
       "                                    learning_rate=0.6, n_estimators=200))])"
      ]
     },
     "execution_count": 3,
     "metadata": {},
     "output_type": "execute_result"
    }
   ],
   "source": [
    "preprocessor_ = ColumnTransformer(transformers =[ ('scale',StandardScaler(), X_train.columns)], remainder ='passthrough')\n",
    "under = RandomUnderSampler(sampling_strategy=0.5,random_state=10)\n",
    "\n",
    "rfe_xgb =  RFE(estimator=LogisticRegression(C=0.001,solver='lbfgs',max_iter=400), n_features_to_select=11)#xgb\n",
    "rfe_ada = RFE(estimator=LogisticRegression(max_iter=400), n_features_to_select=9)#Adaboost with rfe\n",
    "\n",
    "model_xgb= xgb.XGBClassifier(colsample_bylevel=1,colsample_bytree=0.7,gamma=0.4,learning_rate=0.05,\n",
    "max_depth=3,min_child_weight=7,n_estimators=200,subsample=1,use_label_encoder=False,\n",
    "n_jobs = 1,objective = 'binary:logistic',eval_metric = 'error', tree_method='approx')#with rfe\n",
    "\n",
    "model_ada=AdaBoostClassifier(base_estimator=LogisticRegression(C=1000,max_iter=400),learning_rate=0.6,\n",
    "n_estimators=200,algorithm='SAMME')\n",
    "\n",
    "pipeline_model_xgb = Pipeline(steps=[ (\"preprocessor_\", preprocessor_),('rfe_xgb',rfe_xgb),('under',under),('model_xgb',model_xgb)])\n",
    "pipeline_model_ada = Pipeline(steps=[ (\"preprocessor_\", preprocessor_),('rfe_ada',rfe_ada),('under',under),('model_ada',model_ada)])"
   ]
  },
  {
   "cell_type": "code",
   "execution_count": null,
   "id": "b5bd16b8",
   "metadata": {},
   "outputs": [],
   "source": [
    "\n",
    "model_ada=pipeline_model_ada.fit(X_train, y_train)\n",
    "\n",
    "probs_ada = model_ada.predict_proba(X_test)[:, 1]\n",
    "\n",
    "model_xgb =  pipeline_model_xgb.fit(X_train, y_train)\n",
    "\n",
    "probs_xgb = model_xg.predict_proba(X_test)[:, 1]"
   ]
  },
  {
   "cell_type": "code",
   "execution_count": null,
   "id": "5c8cfb60",
   "metadata": {},
   "outputs": [
    {
     "data": {
      "image/png": "[encoded data removed]",
      "text/plain": [
       "<Figure size 504x288 with 1 Axes>"
      ]
     },
     "metadata": {
      "needs_background": "light"
     },
     "output_type": "display_data"
    }
   ],
   "source": [
    "from sklearn.metrics import roc_auc_score, roc_curve\n",
    "\n",
    "auc_ada = roc_auc_score(y_test, probs_ada)\n",
    "fpr_ada, tpr_ada, thresholds_rf = roc_curve(y_test, probs_ada)\n",
    "\n",
    "auc_xgb = roc_auc_score(y_test, probs_xgb)\n",
    "fpr_xgb, tpr_xgb, thresholds_xgb = roc_curve(y_test, probs_xgb)\n",
    "\n",
    "plt.figure(figsize=(7, 4))\n",
    "\n",
    "plt.plot(fpr_ada, tpr_ada, label=f'Adaboost (AUC = {auc_ada:.3f})')\n",
    "plt.plot(fpr_xg, tpr_xg, label=f'eXtreme Gradient Boosting (AUC = {auc_xgb:.3f})')\n",
    "plt.plot([0, 1], [0, 1], color='blue', linestyle='--', label='Baseline')\n",
    "plt.title('ROC Curve', size=20)\n",
    "plt.xlabel('False Positive Rate', size=14)\n",
    "plt.ylabel('True Positive Rate', size=14)\n",
    "plt.legend();"
   ]
  },
  {
   "cell_type": "code",
   "execution_count": null,
   "id": "d23c2a9f",
   "metadata": {},
   "outputs": [
    {
     "name": "stdout",
     "output_type": "stream",
     "text": [
      "Num Features: 11\n",
      "Selected Features: [ True  True False False  True  True  True False False False  True False\n",
      "  True  True False False  True  True  True False False]\n",
      "Feature Ranking: [ 1  1  2 10  1  1  1  5  7  4  1  9  1  1 11  8  1  1  1  6  3]\n",
      "Index(['HighBP', 'HighChol', 'Smoker', 'Stroke', 'Diabetes',\n",
      "       'HvyAlcoholConsump', 'NoDocbcCost', 'GenHlth', 'DiffWalk', 'Sex',\n",
      "       'Age'],\n",
      "      dtype='object')\n"
     ]
    }
   ],
   "source": [
    "rfe = RFE(estimator=LogisticRegression(C=0.001,solver='lbfgs',max_iter=400), n_features_to_select=11)#xgb\n",
    "#rfe = RFE(estimator=LogisticRegression(max_iter=400), n_features_to_select=9)#Adaboost\n",
    "\n",
    "fit = rfe.fit(X_train, y_train)\n",
    "print(\"Num Features: %d\" % fit.n_features_)\n",
    "print(\"Selected Features: %s\" % fit.support_)\n",
    "print(\"Feature Ranking: %s\" % fit.ranking_)\n",
    "\n",
    "print(X_train.columns[rfe.support_])"
   ]
  }
 ],
 "metadata": {
  "kernelspec": {
   "display_name": "Python 3.9.0 64-bit",
   "language": "python",
   "name": "python3"
  },
  "language_info": {
   "codemirror_mode": {
    "name": "ipython",
    "version": 3
   },
   "file_extension": ".py",
   "mimetype": "text/x-python",
   "name": "python",
   "nbconvert_exporter": "python",
   "pygments_lexer": "ipython3",
   "version": "3.9.0"
  },
  "vscode": {
   "interpreter": {
    "hash": "abad5c3aab75dee512ea2e30645d6b966d34812b1dc169b64af11f3db3d1a3aa"
   }
  }
 },
 "nbformat": 4,
 "nbformat_minor": 5
}
